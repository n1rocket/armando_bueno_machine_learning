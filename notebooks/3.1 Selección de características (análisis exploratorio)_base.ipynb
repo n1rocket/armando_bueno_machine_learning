{
 "cells": [
  {
   "cell_type": "markdown",
   "metadata": {},
   "source": [
    "# Estimación del precio de una vivienda \n",
    "\n",
    "En este notebook haremos un análisis exploratorio básico de la base de datos de viviendas [House Sales in King COunty, USA](https://www.kaggle.com/harlfoxem/housesalesprediction), para familiarizarnos con los datos y posteriormente aplicar técnicas de machine learning sobre ellos. \n",
    "\n",
    "Para cada vivienda, se tienen los siguientes atributos, características o features:\n",
    "\n",
    "| Atributo | descripción |\n",
    "| :- |:- |\n",
    "|*id*| identificador de la vivienda|\n",
    "| *date*| fecha\n",
    "| *price*| precio\n",
    "| *bedrooms*| número de habitaciones\n",
    "| *bathrooms*| número de baños/aseos\n",
    "| *sqtf_living*| superficie habitable (en pies al cuadrado)\n",
    "| *sqft_lot*| superficie de la parcela (en pies al cuadrado)\n",
    "| *floors*| número de plantas\n",
    "| *waterfront*| indica si la vivienda tiene acceso a un lago\n",
    "| *view*| tipo de vista (variable numérica)\n",
    "| *condition*| condición de la vivienda (variable númerica)\n",
    "| *grade*| medida de la calidad de la construcción (variable numérica)\n",
    "| *sqft_above*| superficie por encima del suelo (en pies al cuadrado)\n",
    "| *sqft_basement*| superficie del sótano (en pies al cuadrado)\n",
    "| *yr_built*| año de construcción de la vivienda\n",
    "| *yr_renovated*| año de renovación de la vivienda\n",
    "| *lat*| latitud de la parcela\n",
    "| *long*| longitud de la parcela\n",
    "| *sqft_living15*| superficie habitable promedio de los 15 vecinos más cercanos \t\t\t\t\n",
    "| *sqft_lot15*| superficie de la parcela promedio de los 15 vecinos más cercanos\n",
    "\n",
    "Vamos a utilizar **DataFrames** de [Pandas](http://pandas.pydata.org/). Como es sabido, Pandas es un módulo de python de código abierto para el análisis de datos, que proporciona estructuras de datos fáciles de utilizar. Como guía de referencia básica, puede consultarse la [cheat sheet](https://github.com/pandas-dev/pandas/blob/master/doc/cheatsheet/Pandas_Cheat_Sheet.pdf)"
   ]
  },
  {
   "cell_type": "code",
   "execution_count": null,
   "metadata": {},
   "outputs": [],
   "source": [
    "# cargamos librerías necesarias\n",
    "import numpy  as np  \n",
    "import pandas as pd\n",
    "\n",
    "import matplotlib.pyplot as plt # para dibujar\n",
    "%matplotlib inline"
   ]
  },
  {
   "cell_type": "markdown",
   "metadata": {},
   "source": [
    "# 1. Cargar datos"
   ]
  },
  {
   "cell_type": "code",
   "execution_count": null,
   "metadata": {},
   "outputs": [],
   "source": [
    "house_data = pd.read_csv(\"./data/kc_house_data.csv\") # cargamos fichero\n",
    "house_data.head(5)                                   # visualizamos 5 primeras filas"
   ]
  },
  {
   "cell_type": "markdown",
   "metadata": {},
   "source": [
    "Podemos observar que todas las variables son de tipo numérico, así que no tenemos que codificar ninguna de ellas. Por otro lado, los atributos *id* y *date* no nos aportan información, así que los descartamos del DataFrame"
   ]
  },
  {
   "cell_type": "code",
   "execution_count": null,
   "metadata": {},
   "outputs": [],
   "source": [
    "# Eliminamos las columnas id y date \n",
    "house_data = house_data.drop(['id','date'], axis=1)\n",
    "house_data.head(5)"
   ]
  },
  {
   "cell_type": "markdown",
   "metadata": {},
   "source": [
    "Antes seguir con nuestro análisis, vamos a transformar las variables de superficie para expresarlas en $m^2$. Posteriormente, renombraremos las columnas."
   ]
  },
  {
   "cell_type": "code",
   "execution_count": null,
   "metadata": {},
   "outputs": [],
   "source": [
    "# convertir las variables en pies al cuadrado en metros al cuadrado \n",
    "feetFeatures = ['sqft_living','sqft_lot','sqft_above','sqft_basement','sqft_living15','sqft_lot15']\n",
    "house_data[feetFeatures] = house_data[feetFeatures].apply(lambda x: x * 0.3048 * 0.3048)\n",
    "\n",
    "# renombramos\n",
    "house_data.columns = ['price','bedrooms','bathrooms','sqm_living','sqm_lot','floors','waterfront','view','condition',\n",
    "                      'grade','sqm_above','sqm_basement','yr_built','yr_renovated','zip_code','lat','long',\n",
    "                      'sqm_living15','sqm_lot15']\n",
    "\n",
    "# visualizamos\n",
    "house_data.head(5)"
   ]
  },
  {
   "cell_type": "markdown",
   "metadata": {},
   "source": [
    "## 2. Análisis exploratorio\n",
    "\n",
    "Ahora que ya tenemos cargados los datos que queremos analizar en un objeto Pandas, vamos a realizar un análisis básico de los mismos. \n",
    "\n",
    "Una buena práctica es intentar resumir toda la información posible de los datos. Habitualmente nos interesa saber la media y desviación estándar, posiblemente quartiles de cada una de las variables. Esto nos permitirá, por una lado, tener una idea de cómo son las ditribuciones de cada una de las variables y por otra, nos permitirá verificar si existen datos anómalos, también conocidos como [**outliers**](https://en.wikipedia.org/wiki/Outlier). "
   ]
  },
  {
   "cell_type": "code",
   "execution_count": null,
   "metadata": {},
   "outputs": [],
   "source": [
    "house_data.describe()"
   ]
  },
  {
   "cell_type": "markdown",
   "metadata": {},
   "source": [
    "A pesar de este resumen, conviene siempre hacer representaciones gráficas, que nos ofrecen, en general un mejor entendimiento de los datos. Para ello vamos representar los histogramas de algunos atributos: *bedrooms*, *sqm_living* y *yr_built*"
   ]
  },
  {
   "cell_type": "code",
   "execution_count": null,
   "metadata": {},
   "outputs": [],
   "source": [
    "plt.figure(figsize=(15, 5))\n",
    "\n",
    "plt.subplot(1,3,1)\n",
    "house_data['bedrooms'].plot.hist(alpha=0.5, bins=25, grid = True)\n",
    "plt.axis([0, 10, 0, 10000])\n",
    "plt.xlabel('bedrooms')\n",
    "\n",
    "plt.subplot(1,3,2)\n",
    "house_data['sqm_living'].plot.hist(alpha=0.5, bins=25, grid = True)\n",
    "plt.xlabel('sqm_living')\n",
    "\n",
    "plt.subplot(1,3,3)\n",
    "house_data['yr_built'].plot.hist(alpha=0.5, bins=25, grid = True)\n",
    "plt.xlabel('yr_built')\n",
    "\n",
    "plt.show()"
   ]
  },
  {
   "cell_type": "markdown",
   "metadata": {},
   "source": [
    "Una vez que hemos analizado las variables por separado, el siguiente paso en un análisis exploratorio sería el entender las relaciones entre cada una de las variables/atributos ($\\mathbf{x}$) y la variable respuesta ($y$). \n",
    "\n",
    "Para ello vamos a utilizar un [scatter plot](https://en.wikipedia.org/wiki/Scatter_plot) con la variable objetivo definida $y$ como variable dependiente, y alguna una de las variables explicativas como variables independientes. En el caso de la variable *waterfront*, dado que ésta es binaria, vamos a utilizar un [boxplot](https://en.wikipedia.org/wiki/Box_plot)."
   ]
  },
  {
   "cell_type": "code",
   "execution_count": null,
   "metadata": {},
   "outputs": [],
   "source": [
    "# Sólo representamos 3: bedrooms, sqm_living y waterfront\n",
    "# el resto se puede repetir una a una\n",
    "\n",
    "house_data.plot(kind = 'scatter',x='bedrooms',y = 'price')\n",
    "plt.xlabel('# bedrooms')\n",
    "plt.ylabel('price ($)')\n",
    "plt.show()\n",
    "\n",
    "house_data.plot(kind = 'scatter',x='sqm_living',y = 'price')\n",
    "plt.xlabel('sqm_living ($m^2$)')\n",
    "plt.ylabel('price ($)')\n",
    "plt.show()\n",
    "\n",
    "house_data.boxplot(by='waterfront',column = 'price')\n",
    "plt.show()"
   ]
  },
  {
   "cell_type": "markdown",
   "metadata": {},
   "source": [
    "Una vez que hemos hecho un primer análisis exploratorios, el siguiente paso consiste en evaluar las correlaciones entre las diferente variables del problema. Habitualmente, esto nos puede servir para identificar posibles atributos que estén altamente correlacionados. \n",
    "\n",
    "Si la correlación entre dos atributos es muy grande, se dice que la matriz de atributos es singular, y como ya vimos, esto es una fuente de error importante en algunos algoritmos de machine learning, como por ejemplo en el caso de la [regresión lineal](https://es.wikipedia.org/wiki/Regresión_lineal). \n",
    "\n",
    "Este problema se denomina *colinealidad*. Para hacer frente a él, normalmente se evalúa [coeficiente de correlación](https://es.wikipedia.org/wiki/Coeficiente_de_correlación_de_Pearson) ($\\rho$) entre las diferentes atributos de tal forma que se descartan que tengan un $\\rho$ superior a un umbral que establezcamos a priori ($|\\rho|>0.9$, por ejemplo). Hay que tener en cuenta que $-1<\\rho<1$, de tal forma que valores próximos a $0$ indican que no hay correlación y valores próximos a $1$ o $-1$ indican una alta correlación."
   ]
  },
  {
   "cell_type": "code",
   "execution_count": null,
   "metadata": {},
   "outputs": [],
   "source": [
    "house_data.corr() # matriz de correlación"
   ]
  },
  {
   "cell_type": "code",
   "execution_count": null,
   "metadata": {},
   "outputs": [],
   "source": [
    "import seaborn as sns\n",
    "\n",
    "# Compute the correlation matrix\n",
    "corr = np.abs(house_data.drop(['price'], axis=1).corr())\n",
    "\n",
    "# Generate a mask for the upper triangle\n",
    "mask = np.zeros_like(corr, dtype=np.bool)\n",
    "mask[np.triu_indices_from(mask)] = True\n",
    "\n",
    "# Set up the matplotlib figure\n",
    "f, ax = plt.subplots(figsize=(12, 10))\n",
    "\n",
    "# Draw the heatmap with the mask and correct aspect ratio\n",
    "sns.heatmap(corr, mask=mask,vmin = 0.0, vmax=1.0, center=0.5,\n",
    "            linewidths=.1, cmap=\"YlGnBu\", cbar_kws={\"shrink\": .8})\n",
    "\n",
    "plt.show()"
   ]
  },
  {
   "cell_type": "markdown",
   "metadata": {},
   "source": [
    "Por último, podemos hacer una representación (scatter_plot) de todas las variables frente al resto, para tener una idea de cómo se relacionan las variables del problema."
   ]
  },
  {
   "cell_type": "code",
   "execution_count": null,
   "metadata": {},
   "outputs": [],
   "source": [
    "pd.plotting.scatter_matrix(house_data, alpha=0.2, figsize=(20, 20), diagonal = 'kde')\n",
    "plt.show()"
   ]
  },
  {
   "cell_type": "markdown",
   "metadata": {},
   "source": [
    "Este sería el momento de pensar sobre otras variables que tuvieran sentido, y de eliminar variables con altar correlación. Así:\n",
    "\n",
    "- Eliminar *sqm_living* o *sqm_above*\n",
    "- Construir el atributo antigüedad de la casa en vez de año de la construcción\n"
   ]
  },
  {
   "cell_type": "code",
   "execution_count": null,
   "metadata": {},
   "outputs": [],
   "source": []
  }
 ],
 "metadata": {
  "kernelspec": {
   "display_name": "venv",
   "language": "python",
   "name": "venv"
  },
  "language_info": {
   "codemirror_mode": {
    "name": "ipython",
    "version": 3
   },
   "file_extension": ".py",
   "mimetype": "text/x-python",
   "name": "python",
   "nbconvert_exporter": "python",
   "pygments_lexer": "ipython3",
   "version": "3.8.10"
  }
 },
 "nbformat": 4,
 "nbformat_minor": 4
}
